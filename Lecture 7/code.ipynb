{
 "cells": [
  {
   "cell_type": "code",
   "execution_count": 1,
   "metadata": {},
   "outputs": [],
   "source": [
    "import pandas as pd\n",
    "from scipy import stats\n",
    "# Load the bulb lifespan data from the CSV file\n",
    "df = pd.read_csv(\"bulb_lifespans.csv\")\n"
   ]
  },
  {
   "cell_type": "code",
   "execution_count": 2,
   "metadata": {},
   "outputs": [
    {
     "data": {
      "text/plain": [
       "np.float64(977.452609474386)"
      ]
     },
     "execution_count": 2,
     "metadata": {},
     "output_type": "execute_result"
    }
   ],
   "source": [
    "df['BulbLifespan'].mean()"
   ]
  },
  {
   "cell_type": "code",
   "execution_count": 5,
   "metadata": {},
   "outputs": [
    {
     "name": "stdout",
     "output_type": "stream",
     "text": [
      "Z-statistic: -1.7076090630948146\n",
      "P-value: 0.09403837414922557\n"
     ]
    }
   ],
   "source": [
    "# Define the parameters for the z-test\n",
    "population_mean = 1000 # Company's claim\n",
    "alpha = 0.05\n",
    "# Perform the one-sample z-test (using ttest_1samp with known population std)\n",
    "z_statistic, p_value = stats.ttest_1samp(a=df['BulbLifespan'], popmean=population_mean)\n",
    "# Print the results\n",
    "print(\"Z-statistic:\", z_statistic)\n",
    "print(\"P-value:\", p_value)\n"
   ]
  },
  {
   "cell_type": "code",
   "execution_count": 6,
   "metadata": {},
   "outputs": [
    {
     "name": "stdout",
     "output_type": "stream",
     "text": [
      "Fail to reject the null hypothesis. There's no significant evidence against the company's claim.\n"
     ]
    }
   ],
   "source": [
    "# Make a decision based on the p-value\n",
    "if p_value < alpha:\n",
    "    print(\"Reject the null hypothesis. The average lifespan is significantly different from 1000 hours.\")\n",
    "else:\n",
    "    print(\"Fail to reject the null hypothesis. There's no significant evidence against the company's claim.\")"
   ]
  }
 ],
 "metadata": {
  "kernelspec": {
   "display_name": "Python 3",
   "language": "python",
   "name": "python3"
  },
  "language_info": {
   "codemirror_mode": {
    "name": "ipython",
    "version": 3
   },
   "file_extension": ".py",
   "mimetype": "text/x-python",
   "name": "python",
   "nbconvert_exporter": "python",
   "pygments_lexer": "ipython3",
   "version": "3.12.5"
  }
 },
 "nbformat": 4,
 "nbformat_minor": 2
}
