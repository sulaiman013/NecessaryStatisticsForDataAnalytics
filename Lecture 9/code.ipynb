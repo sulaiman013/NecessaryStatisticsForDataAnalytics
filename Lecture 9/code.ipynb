{
 "cells": [
  {
   "cell_type": "code",
   "execution_count": 1,
   "metadata": {},
   "outputs": [
    {
     "name": "stdout",
     "output_type": "stream",
     "text": [
      "     country  adjusted_satisfaction  avg_satisfaction  std_satisfaction  \\\n",
      "0    Armenia                   37.0               4.9              2.42   \n",
      "1     Angola                   26.0               4.3              3.19   \n",
      "2  Argentina                   60.0               7.1              1.91   \n",
      "3    Austria                   59.0               7.2              2.11   \n",
      "4  Australia                   65.0               7.6              1.80   \n",
      "\n",
      "   avg_income  median_income  income_inequality  \\\n",
      "0     2096.76    1731.506667          31.445556   \n",
      "1     1448.88    1044.240000          42.720000   \n",
      "2     7101.12    5109.400000          45.475556   \n",
      "3    19457.04   16879.620000          30.296250   \n",
      "4    19917.00   15846.060000          35.285000   \n",
      "\n",
      "                          region  happyScore      GDP  country.1  \n",
      "0   'Central and Eastern Europe'       4.350  0.76821    Armenia  \n",
      "1           'Sub-Saharan Africa'       4.033  0.75778     Angola  \n",
      "2  'Latin America and Caribbean'       6.574  1.05351  Argentina  \n",
      "3               'Western Europe'       7.200  1.33723    Austria  \n",
      "4    'Australia and New Zealand'       7.284  1.33358  Australia  \n"
     ]
    }
   ],
   "source": [
    "import pandas as pd\n",
    "import matplotlib.pyplot as plt\n",
    "from scipy.stats import pearsonr\n",
    "\n",
    "\n",
    "df = pd.read_csv(\"happyscore_income.csv\")\n",
    "\n",
    "# Display the first few rows of the dataset\n",
    "print(df.head())\n",
    "\n"
   ]
  },
  {
   "cell_type": "code",
   "execution_count": 2,
   "metadata": {},
   "outputs": [
    {
     "data": {
      "text/html": [
       "<div>\n",
       "<style scoped>\n",
       "    .dataframe tbody tr th:only-of-type {\n",
       "        vertical-align: middle;\n",
       "    }\n",
       "\n",
       "    .dataframe tbody tr th {\n",
       "        vertical-align: top;\n",
       "    }\n",
       "\n",
       "    .dataframe thead th {\n",
       "        text-align: right;\n",
       "    }\n",
       "</style>\n",
       "<table border=\"1\" class=\"dataframe\">\n",
       "  <thead>\n",
       "    <tr style=\"text-align: right;\">\n",
       "      <th></th>\n",
       "      <th>adjusted_satisfaction</th>\n",
       "      <th>avg_satisfaction</th>\n",
       "      <th>std_satisfaction</th>\n",
       "      <th>avg_income</th>\n",
       "      <th>median_income</th>\n",
       "      <th>income_inequality</th>\n",
       "      <th>happyScore</th>\n",
       "      <th>GDP</th>\n",
       "    </tr>\n",
       "  </thead>\n",
       "  <tbody>\n",
       "    <tr>\n",
       "      <th>count</th>\n",
       "      <td>111.000000</td>\n",
       "      <td>111.000000</td>\n",
       "      <td>111.000000</td>\n",
       "      <td>111.000000</td>\n",
       "      <td>111.000000</td>\n",
       "      <td>111.000000</td>\n",
       "      <td>111.000000</td>\n",
       "      <td>111.000000</td>\n",
       "    </tr>\n",
       "    <tr>\n",
       "      <th>mean</th>\n",
       "      <td>48.729730</td>\n",
       "      <td>5.936937</td>\n",
       "      <td>2.124595</td>\n",
       "      <td>6442.751416</td>\n",
       "      <td>5186.005304</td>\n",
       "      <td>38.417805</td>\n",
       "      <td>5.421910</td>\n",
       "      <td>0.841909</td>\n",
       "    </tr>\n",
       "    <tr>\n",
       "      <th>std</th>\n",
       "      <td>12.364131</td>\n",
       "      <td>1.356394</td>\n",
       "      <td>0.316546</td>\n",
       "      <td>6479.533692</td>\n",
       "      <td>5587.037239</td>\n",
       "      <td>8.375557</td>\n",
       "      <td>1.180801</td>\n",
       "      <td>0.387591</td>\n",
       "    </tr>\n",
       "    <tr>\n",
       "      <th>min</th>\n",
       "      <td>19.000000</td>\n",
       "      <td>2.500000</td>\n",
       "      <td>1.380000</td>\n",
       "      <td>572.880000</td>\n",
       "      <td>415.480000</td>\n",
       "      <td>24.215000</td>\n",
       "      <td>2.839000</td>\n",
       "      <td>0.015300</td>\n",
       "    </tr>\n",
       "    <tr>\n",
       "      <th>25%</th>\n",
       "      <td>40.000000</td>\n",
       "      <td>5.100000</td>\n",
       "      <td>1.910000</td>\n",
       "      <td>1519.388684</td>\n",
       "      <td>1167.717333</td>\n",
       "      <td>32.182857</td>\n",
       "      <td>4.568000</td>\n",
       "      <td>0.509930</td>\n",
       "    </tr>\n",
       "    <tr>\n",
       "      <th>50%</th>\n",
       "      <td>48.000000</td>\n",
       "      <td>6.000000</td>\n",
       "      <td>2.130000</td>\n",
       "      <td>3889.320000</td>\n",
       "      <td>2646.973333</td>\n",
       "      <td>36.480000</td>\n",
       "      <td>5.268000</td>\n",
       "      <td>0.918610</td>\n",
       "    </tr>\n",
       "    <tr>\n",
       "      <th>75%</th>\n",
       "      <td>57.000000</td>\n",
       "      <td>7.000000</td>\n",
       "      <td>2.330000</td>\n",
       "      <td>7867.402500</td>\n",
       "      <td>6581.124643</td>\n",
       "      <td>43.380000</td>\n",
       "      <td>6.392000</td>\n",
       "      <td>1.149485</td>\n",
       "    </tr>\n",
       "    <tr>\n",
       "      <th>max</th>\n",
       "      <td>74.000000</td>\n",
       "      <td>8.500000</td>\n",
       "      <td>3.190000</td>\n",
       "      <td>26182.275000</td>\n",
       "      <td>22240.230000</td>\n",
       "      <td>63.726667</td>\n",
       "      <td>7.587000</td>\n",
       "      <td>1.563910</td>\n",
       "    </tr>\n",
       "  </tbody>\n",
       "</table>\n",
       "</div>"
      ],
      "text/plain": [
       "       adjusted_satisfaction  avg_satisfaction  std_satisfaction  \\\n",
       "count             111.000000        111.000000        111.000000   \n",
       "mean               48.729730          5.936937          2.124595   \n",
       "std                12.364131          1.356394          0.316546   \n",
       "min                19.000000          2.500000          1.380000   \n",
       "25%                40.000000          5.100000          1.910000   \n",
       "50%                48.000000          6.000000          2.130000   \n",
       "75%                57.000000          7.000000          2.330000   \n",
       "max                74.000000          8.500000          3.190000   \n",
       "\n",
       "         avg_income  median_income  income_inequality  happyScore         GDP  \n",
       "count    111.000000     111.000000         111.000000  111.000000  111.000000  \n",
       "mean    6442.751416    5186.005304          38.417805    5.421910    0.841909  \n",
       "std     6479.533692    5587.037239           8.375557    1.180801    0.387591  \n",
       "min      572.880000     415.480000          24.215000    2.839000    0.015300  \n",
       "25%     1519.388684    1167.717333          32.182857    4.568000    0.509930  \n",
       "50%     3889.320000    2646.973333          36.480000    5.268000    0.918610  \n",
       "75%     7867.402500    6581.124643          43.380000    6.392000    1.149485  \n",
       "max    26182.275000   22240.230000          63.726667    7.587000    1.563910  "
      ]
     },
     "execution_count": 2,
     "metadata": {},
     "output_type": "execute_result"
    }
   ],
   "source": [
    "df.describe()"
   ]
  },
  {
   "cell_type": "code",
   "execution_count": 3,
   "metadata": {},
   "outputs": [
    {
     "name": "stdout",
     "output_type": "stream",
     "text": [
      "Pearson Correlation Coefficient: 0.760\n"
     ]
    }
   ],
   "source": [
    "# Extract the relevant columns for correlation analysis\n",
    "income = df['median_income']\n",
    "happiness = df['happyScore']\n",
    "\n",
    "# Calculate the Pearson correlation coefficient\n",
    "correlation_coefficient, _ = pearsonr(income, happiness)\n",
    "\n",
    "# Print the correlation coefficient\n",
    "print(f\"Pearson Correlation Coefficient: {correlation_coefficient:.3f}\")\n"
   ]
  },
  {
   "cell_type": "code",
   "execution_count": 4,
   "metadata": {},
   "outputs": [
    {
     "data": {
      "image/png": "[encoded data removed]",
      "text/plain": [
       "<Figure size 800x600 with 1 Axes>"
      ]
     },
     "metadata": {},
     "output_type": "display_data"
    }
   ],
   "source": [
    "\n",
    "# Create a scatter plot to visualize the relationship\n",
    "plt.figure(figsize=(8, 6))\n",
    "plt.scatter(income, happiness, alpha=0.7)\n",
    "plt.title('Income vs. Happiness')\n",
    "plt.xlabel('Income')\n",
    "plt.ylabel('Happiness')\n",
    "plt.grid(True)\n",
    "\n",
    "# Display the plot\n",
    "plt.show() "
   ]
  },
  {
   "cell_type": "code",
   "execution_count": 5,
   "metadata": {},
   "outputs": [
    {
     "data": {
      "text/html": [
       "<div>\n",
       "<style scoped>\n",
       "    .dataframe tbody tr th:only-of-type {\n",
       "        vertical-align: middle;\n",
       "    }\n",
       "\n",
       "    .dataframe tbody tr th {\n",
       "        vertical-align: top;\n",
       "    }\n",
       "\n",
       "    .dataframe thead th {\n",
       "        text-align: right;\n",
       "    }\n",
       "</style>\n",
       "<table border=\"1\" class=\"dataframe\">\n",
       "  <thead>\n",
       "    <tr style=\"text-align: right;\">\n",
       "      <th></th>\n",
       "      <th>team_id</th>\n",
       "      <th>phase</th>\n",
       "      <th>group</th>\n",
       "      <th>round</th>\n",
       "      <th>totalingred</th>\n",
       "    </tr>\n",
       "  </thead>\n",
       "  <tbody>\n",
       "    <tr>\n",
       "      <th>0</th>\n",
       "      <td>21301</td>\n",
       "      <td>1</td>\n",
       "      <td>newhire</td>\n",
       "      <td>1</td>\n",
       "      <td>19</td>\n",
       "    </tr>\n",
       "    <tr>\n",
       "      <th>1</th>\n",
       "      <td>21301</td>\n",
       "      <td>1</td>\n",
       "      <td>newhire</td>\n",
       "      <td>2</td>\n",
       "      <td>23</td>\n",
       "    </tr>\n",
       "    <tr>\n",
       "      <th>2</th>\n",
       "      <td>21301</td>\n",
       "      <td>1</td>\n",
       "      <td>newhire</td>\n",
       "      <td>3</td>\n",
       "      <td>23</td>\n",
       "    </tr>\n",
       "    <tr>\n",
       "      <th>3</th>\n",
       "      <td>21301</td>\n",
       "      <td>1</td>\n",
       "      <td>newhire</td>\n",
       "      <td>4</td>\n",
       "      <td>25</td>\n",
       "    </tr>\n",
       "    <tr>\n",
       "      <th>4</th>\n",
       "      <td>21301</td>\n",
       "      <td>1</td>\n",
       "      <td>newhire</td>\n",
       "      <td>5</td>\n",
       "      <td>24</td>\n",
       "    </tr>\n",
       "  </tbody>\n",
       "</table>\n",
       "</div>"
      ],
      "text/plain": [
       "   team_id  phase    group  round  totalingred\n",
       "0    21301      1  newhire      1           19\n",
       "1    21301      1  newhire      2           23\n",
       "2    21301      1  newhire      3           23\n",
       "3    21301      1  newhire      4           25\n",
       "4    21301      1  newhire      5           24"
      ]
     },
     "execution_count": 5,
     "metadata": {},
     "output_type": "execute_result"
    }
   ],
   "source": [
    "import pandas as pd\n",
    "import statsmodels.formula.api as sm\n",
    "from statsmodels.stats.anova import anova_lm\n",
    "\n",
    "# Load the dataset\n",
    "df = pd.read_csv(\"mario.csv\")\n",
    "df.head()"
   ]
  },
  {
   "cell_type": "code",
   "execution_count": 6,
   "metadata": {},
   "outputs": [
    {
     "data": {
      "text/plain": [
       "group\n",
       "ai         240\n",
       "control    240\n",
       "newhire    180\n",
       "Name: count, dtype: int64"
      ]
     },
     "execution_count": 6,
     "metadata": {},
     "output_type": "execute_result"
    }
   ],
   "source": [
    "df['group'].value_counts()"
   ]
  },
  {
   "cell_type": "code",
   "execution_count": 7,
   "metadata": {},
   "outputs": [
    {
     "name": "stdout",
     "output_type": "stream",
     "text": [
      "             df        sum_sq    mean_sq         F    PR(>F)\n",
      "C(group)    2.0     56.379040  28.189520  1.464875  0.231861\n",
      "Residual  657.0  12643.069444  19.243637       NaN       NaN\n"
     ]
    }
   ],
   "source": [
    "\n",
    "# Perform One-Way ANOVA\n",
    "model = sm.ols('totalingred ~ C(group)', data=df).fit()\n",
    "anova_table = anova_lm(model)\n",
    "\n",
    "# Print the ANOVA table\n",
    "print(anova_table)"
   ]
  }
 ],
 "metadata": {
  "kernelspec": {
   "display_name": "Python 3",
   "language": "python",
   "name": "python3"
  },
  "language_info": {
   "codemirror_mode": {
    "name": "ipython",
    "version": 3
   },
   "file_extension": ".py",
   "mimetype": "text/x-python",
   "name": "python",
   "nbconvert_exporter": "python",
   "pygments_lexer": "ipython3",
   "version": "3.12.5"
  }
 },
 "nbformat": 4,
 "nbformat_minor": 2
}
